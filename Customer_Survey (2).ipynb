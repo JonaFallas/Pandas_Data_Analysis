{
 "cells": [
  {
   "cell_type": "markdown",
   "id": "d79c12dc-32ef-450c-9c8a-45d5fea4f361",
   "metadata": {},
   "source": [
    "# Customer Survey "
   ]
  },
  {
   "cell_type": "code",
   "execution_count": 101,
   "id": "7ece926f-fea5-436b-b1e4-b0d67ffc2e5b",
   "metadata": {},
   "outputs": [],
   "source": [
    "import pandas as pd\n",
    "import matplotlib.pyplot as plt"
   ]
  },
  {
   "cell_type": "code",
   "execution_count": 103,
   "id": "cb36151b-64ac-4fa4-a71a-ae75b0c65266",
   "metadata": {},
   "outputs": [],
   "source": [
    "survey_df= pd.read_csv('Customer-survey-data.csv')"
   ]
  },
  {
   "cell_type": "markdown",
   "id": "8ee2d261-5a85-4e4f-b1dc-7e55152fcfe4",
   "metadata": {},
   "source": [
    "# Exploratory Data Analysis"
   ]
  },
  {
   "cell_type": "code",
   "execution_count": 83,
   "id": "8c96928e-9d61-4eaf-bfe7-323a9a48d0b9",
   "metadata": {},
   "outputs": [
    {
     "data": {
      "text/html": [
       "<div>\n",
       "<style scoped>\n",
       "    .dataframe tbody tr th:only-of-type {\n",
       "        vertical-align: middle;\n",
       "    }\n",
       "\n",
       "    .dataframe tbody tr th {\n",
       "        vertical-align: top;\n",
       "    }\n",
       "\n",
       "    .dataframe thead th {\n",
       "        text-align: right;\n",
       "    }\n",
       "</style>\n",
       "<table border=\"1\" class=\"dataframe\">\n",
       "  <thead>\n",
       "    <tr style=\"text-align: right;\">\n",
       "      <th></th>\n",
       "      <th>Customer</th>\n",
       "      <th>Delivery_Experience</th>\n",
       "      <th>Food_quality</th>\n",
       "      <th>Delivery_Speed</th>\n",
       "      <th>Accurate_Order</th>\n",
       "    </tr>\n",
       "  </thead>\n",
       "  <tbody>\n",
       "    <tr>\n",
       "      <th>0</th>\n",
       "      <td>1</td>\n",
       "      <td>5.0</td>\n",
       "      <td>3.0</td>\n",
       "      <td>4.0</td>\n",
       "      <td>Yes</td>\n",
       "    </tr>\n",
       "    <tr>\n",
       "      <th>1</th>\n",
       "      <td>2</td>\n",
       "      <td>3.0</td>\n",
       "      <td>4.0</td>\n",
       "      <td>3.0</td>\n",
       "      <td>Yes</td>\n",
       "    </tr>\n",
       "    <tr>\n",
       "      <th>2</th>\n",
       "      <td>3</td>\n",
       "      <td>4.0</td>\n",
       "      <td>5.0</td>\n",
       "      <td>2.0</td>\n",
       "      <td>Yes</td>\n",
       "    </tr>\n",
       "    <tr>\n",
       "      <th>3</th>\n",
       "      <td>4</td>\n",
       "      <td>5.0</td>\n",
       "      <td>3.0</td>\n",
       "      <td>4.0</td>\n",
       "      <td>Yes</td>\n",
       "    </tr>\n",
       "    <tr>\n",
       "      <th>4</th>\n",
       "      <td>5</td>\n",
       "      <td>2.0</td>\n",
       "      <td>5.0</td>\n",
       "      <td>1.0</td>\n",
       "      <td>Yes</td>\n",
       "    </tr>\n",
       "    <tr>\n",
       "      <th>5</th>\n",
       "      <td>6</td>\n",
       "      <td>5.0</td>\n",
       "      <td>2.0</td>\n",
       "      <td>5.0</td>\n",
       "      <td>Yes</td>\n",
       "    </tr>\n",
       "    <tr>\n",
       "      <th>6</th>\n",
       "      <td>7</td>\n",
       "      <td>1.0</td>\n",
       "      <td>4.0</td>\n",
       "      <td>3.0</td>\n",
       "      <td>Yes</td>\n",
       "    </tr>\n",
       "    <tr>\n",
       "      <th>7</th>\n",
       "      <td>8</td>\n",
       "      <td>3.0</td>\n",
       "      <td>3.0</td>\n",
       "      <td>2.0</td>\n",
       "      <td>No</td>\n",
       "    </tr>\n",
       "    <tr>\n",
       "      <th>8</th>\n",
       "      <td>9</td>\n",
       "      <td>5.0</td>\n",
       "      <td>1.0</td>\n",
       "      <td>3.0</td>\n",
       "      <td>Yes</td>\n",
       "    </tr>\n",
       "    <tr>\n",
       "      <th>9</th>\n",
       "      <td>10</td>\n",
       "      <td>3.0</td>\n",
       "      <td>5.0</td>\n",
       "      <td>3.0</td>\n",
       "      <td>No</td>\n",
       "    </tr>\n",
       "  </tbody>\n",
       "</table>\n",
       "</div>"
      ],
      "text/plain": [
       "   Customer  Delivery_Experience  Food_quality  Delivery_Speed Accurate_Order\n",
       "0         1                  5.0           3.0             4.0            Yes\n",
       "1         2                  3.0           4.0             3.0            Yes\n",
       "2         3                  4.0           5.0             2.0            Yes\n",
       "3         4                  5.0           3.0             4.0            Yes\n",
       "4         5                  2.0           5.0             1.0            Yes\n",
       "5         6                  5.0           2.0             5.0            Yes\n",
       "6         7                  1.0           4.0             3.0            Yes\n",
       "7         8                  3.0           3.0             2.0             No\n",
       "8         9                  5.0           1.0             3.0            Yes\n",
       "9        10                  3.0           5.0             3.0             No"
      ]
     },
     "execution_count": 83,
     "metadata": {},
     "output_type": "execute_result"
    }
   ],
   "source": [
    "survey_df.head(10)"
   ]
  },
  {
   "cell_type": "code",
   "execution_count": 105,
   "id": "a2791649-217a-44dd-b94b-fb2ce321b0d1",
   "metadata": {},
   "outputs": [
    {
     "data": {
      "text/plain": [
       "10616"
      ]
     },
     "execution_count": 105,
     "metadata": {},
     "output_type": "execute_result"
    }
   ],
   "source": [
    "# Inspecting size of dataset\n",
    "len(survey_df)"
   ]
  },
  {
   "cell_type": "code",
   "execution_count": 108,
   "id": "f6ba2b44-dd2b-485b-86c8-d79bd2524c67",
   "metadata": {},
   "outputs": [
    {
     "data": {
      "text/plain": [
       "10616"
      ]
     },
     "execution_count": 108,
     "metadata": {},
     "output_type": "execute_result"
    }
   ],
   "source": [
    "# Checking for duplicates\n",
    "survey_df['Customer'].nunique()"
   ]
  },
  {
   "cell_type": "code",
   "execution_count": 110,
   "id": "b01927fa-86b1-48dc-9cb2-f8deb1479c3a",
   "metadata": {},
   "outputs": [
    {
     "data": {
      "text/plain": [
       "Customer               10616\n",
       "Delivery_Experience    10198\n",
       "Food_quality           10364\n",
       "Delivery_Speed         10377\n",
       "Accurate_Order          9956\n",
       "dtype: int64"
      ]
     },
     "execution_count": 110,
     "metadata": {},
     "output_type": "execute_result"
    }
   ],
   "source": [
    "# Isnpecting for missing data.\n",
    "survey_df.count()"
   ]
  },
  {
   "cell_type": "code",
   "execution_count": 146,
   "id": "657413bc-b123-46a4-9c95-c5d85ff3dea6",
   "metadata": {},
   "outputs": [
    {
     "data": {
      "text/plain": [
       "Customer                 0\n",
       "Delivery_Experience    418\n",
       "Food_quality           252\n",
       "Delivery_Speed         239\n",
       "Accurate_Order         660\n",
       "dtype: int64"
      ]
     },
     "execution_count": 146,
     "metadata": {},
     "output_type": "execute_result"
    }
   ],
   "source": [
    "survey_df.isna().sum()"
   ]
  },
  {
   "cell_type": "markdown",
   "id": "240ea1ab-1a36-400b-975e-81c9d5563dc9",
   "metadata": {},
   "source": [
    "#### I noticed that there is some missing data. I proceeded to drop only rows where customer did not answered any of the questions."
   ]
  },
  {
   "cell_type": "code",
   "execution_count": 150,
   "id": "b2ccdd4f-0266-4950-81f4-f168f442810a",
   "metadata": {},
   "outputs": [],
   "source": [
    "survey_df = survey_df.dropna(subset = survey_df.columns[1:5], how='all')"
   ]
  },
  {
   "cell_type": "markdown",
   "id": "e740f166-f9fa-4f1c-bef3-d0598ca09b97",
   "metadata": {},
   "source": [
    "# Descriptive Statistics\n",
    "\n",
    "####   I will be using the Food_quality column for calculations."
   ]
  },
  {
   "cell_type": "markdown",
   "id": "8b582839-b599-4bd6-9c01-dac875b8257d",
   "metadata": {},
   "source": [
    "## Central Tendency\n",
    "\n",
    "\n",
    "####   In this section, I will compute the measures of central tendency - mean, median and mode.\n"
   ]
  },
  {
   "cell_type": "markdown",
   "id": "55f6c9de-25d8-4e5e-b131-dde8331f0ca3",
   "metadata": {},
   "source": [
    "### 1. Mean"
   ]
  },
  {
   "cell_type": "code",
   "execution_count": 173,
   "id": "736da42d-a3a9-41d9-b012-71d8a2f3ffc0",
   "metadata": {},
   "outputs": [
    {
     "name": "stdout",
     "output_type": "stream",
     "text": [
      "3.3320146661520647\n"
     ]
    }
   ],
   "source": [
    "quality_mean = survey_df['Food_quality'].mean()\n",
    "\n",
    "print(quality_mean)"
   ]
  },
  {
   "cell_type": "markdown",
   "id": "98c2724d-b861-4ca0-b5d9-3ae7bca3422d",
   "metadata": {},
   "source": [
    "### 2. Median"
   ]
  },
  {
   "cell_type": "code",
   "execution_count": 180,
   "id": "fcbe40b8-7cc8-4ceb-8db8-860efde6c64a",
   "metadata": {},
   "outputs": [
    {
     "name": "stdout",
     "output_type": "stream",
     "text": [
      "3.0\n"
     ]
    }
   ],
   "source": [
    "quality_median = survey_df['Food_quality'].median()\n",
    "\n",
    "print(quality_median)"
   ]
  },
  {
   "cell_type": "markdown",
   "id": "b543effe-37d6-4ccf-a8ab-13e166e35146",
   "metadata": {},
   "source": [
    "### 3. Mode"
   ]
  },
  {
   "cell_type": "code",
   "execution_count": 191,
   "id": "89e54f6c-0a7d-46bb-9108-880868273806",
   "metadata": {},
   "outputs": [
    {
     "name": "stdout",
     "output_type": "stream",
     "text": [
      "0    5.0\n",
      "Name: Food_quality, dtype: float64\n"
     ]
    }
   ],
   "source": [
    "quality_mode = survey_df['Food_quality'].mode()\n",
    "\n",
    "print(quality_mode)"
   ]
  },
  {
   "cell_type": "markdown",
   "id": "deaac29b-3b6f-456c-bf8c-07224fbe90cd",
   "metadata": {},
   "source": [
    "### Plot of califications obtained for the 'Food Quality' column."
   ]
  },
  {
   "cell_type": "code",
   "execution_count": 213,
   "id": "5a735bf8-1ded-43b7-8d6e-4822645d3116",
   "metadata": {},
   "outputs": [
    {
     "data": {
      "text/plain": [
       "<Axes: xlabel='Food_quality'>"
      ]
     },
     "execution_count": 213,
     "metadata": {},
     "output_type": "execute_result"
    },
    {
     "data": {
      "image/png": "[encoded data removed]",
      "text/plain": [
       "<Figure size 500x300 with 1 Axes>"
      ]
     },
     "metadata": {},
     "output_type": "display_data"
    }
   ],
   "source": [
    "survey_df['Food_quality'].value_counts().sort_index(ascending=True).plot(kind='bar', figsize=(5,3))"
   ]
  },
  {
   "cell_type": "markdown",
   "id": "6f61b03d-0956-47dd-b15a-c55017fead45",
   "metadata": {},
   "source": [
    "###### This plot confirms that 5 is the value that has the highest frequency (mode) for the Food quality column."
   ]
  },
  {
   "cell_type": "markdown",
   "id": "3c40d4c9-99d2-45c1-8813-0e4fc0dc3a21",
   "metadata": {},
   "source": [
    "## Measures of Dispersion\n",
    "#### (Minimum and Maximum values, Range, Variance, Standard-deviation, IQR.)"
   ]
  },
  {
   "cell_type": "markdown",
   "id": "46cc5577-6389-4ba9-aa1a-44fc49305521",
   "metadata": {},
   "source": [
    "### 1. Min and Max values for Food Quality."
   ]
  },
  {
   "cell_type": "code",
   "execution_count": 229,
   "id": "25d8ce51-d8bc-45d8-a53d-0431c603fc11",
   "metadata": {},
   "outputs": [
    {
     "name": "stdout",
     "output_type": "stream",
     "text": [
      "1.0\n"
     ]
    }
   ],
   "source": [
    "min_quality = survey_df['Food_quality'].min()\n",
    "\n",
    "print(min_quality)"
   ]
  },
  {
   "cell_type": "code",
   "execution_count": 231,
   "id": "74e4e0ee-969b-4b37-b8b7-1c650c703d9e",
   "metadata": {},
   "outputs": [
    {
     "name": "stdout",
     "output_type": "stream",
     "text": [
      "5.0\n"
     ]
    }
   ],
   "source": [
    "max_quality = survey_df['Food_quality'].max()\n",
    "\n",
    "print(max_quality)"
   ]
  },
  {
   "cell_type": "markdown",
   "id": "96e8b00a-d9b8-4ad7-b68e-30a4de4e04f3",
   "metadata": {},
   "source": [
    "### 2. Range"
   ]
  },
  {
   "cell_type": "code",
   "execution_count": null,
   "id": "9d10916f-dc13-4ecd-a431-fa4ec7cdbc92",
   "metadata": {},
   "outputs": [
    {
     "name": "stdout",
     "output_type": "stream",
     "text": [
      "4.0\n"
     ]
    }
   ],
   "source": [
    "range_food_quality = max_quality - min_quality\n",
    "\n",
    "print(range_food_quality)"
   ]
  },
  {
   "cell_type": "markdown",
   "id": "81b42f64-c82e-4970-87a3-3228c8800c9f",
   "metadata": {},
   "source": [
    "### 3. Variance"
   ]
  },
  {
   "cell_type": "code",
   "execution_count": 252,
   "id": "27f265ed-3252-4acf-9ea2-e58ed32da04c",
   "metadata": {},
   "outputs": [
    {
     "data": {
      "text/plain": [
       "2.0014028306253944"
      ]
     },
     "execution_count": 252,
     "metadata": {},
     "output_type": "execute_result"
    }
   ],
   "source": [
    "survey_df['Food_quality'].var()"
   ]
  }
 ],
 "metadata": {
  "kernelspec": {
   "display_name": "anaconda-panel-2023.05-py310",
   "language": "python",
   "name": "conda-env-anaconda-panel-2023.05-py310-py"
  },
  "language_info": {
   "codemirror_mode": {
    "name": "ipython",
    "version": 3
   },
   "file_extension": ".py",
   "mimetype": "text/x-python",
   "name": "python",
   "nbconvert_exporter": "python",
   "pygments_lexer": "ipython3",
   "version": "3.11.5"
  }
 },
 "nbformat": 4,
 "nbformat_minor": 5
}
