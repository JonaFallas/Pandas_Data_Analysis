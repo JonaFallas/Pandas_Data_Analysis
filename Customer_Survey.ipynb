{
 "cells": [
  {
   "cell_type": "code",
   "execution_count": 273,
   "id": "7ece926f-fea5-436b-b1e4-b0d67ffc2e5b",
   "metadata": {},
   "outputs": [],
   "source": [
    "import pandas as pd\n",
    "import matplotlib.pyplot as plt"
   ]
  },
  {
   "cell_type": "code",
   "execution_count": 275,
   "id": "cb36151b-64ac-4fa4-a71a-ae75b0c65266",
   "metadata": {},
   "outputs": [],
   "source": [
    "survey_df= pd.read_csv('Customer-survey-data.csv')"
   ]
  },
  {
   "cell_type": "code",
   "execution_count": 277,
   "id": "8c96928e-9d61-4eaf-bfe7-323a9a48d0b9",
   "metadata": {},
   "outputs": [
    {
     "data": {
      "text/html": [
       "<div>\n",
       "<style scoped>\n",
       "    .dataframe tbody tr th:only-of-type {\n",
       "        vertical-align: middle;\n",
       "    }\n",
       "\n",
       "    .dataframe tbody tr th {\n",
       "        vertical-align: top;\n",
       "    }\n",
       "\n",
       "    .dataframe thead th {\n",
       "        text-align: right;\n",
       "    }\n",
       "</style>\n",
       "<table border=\"1\" class=\"dataframe\">\n",
       "  <thead>\n",
       "    <tr style=\"text-align: right;\">\n",
       "      <th></th>\n",
       "      <th>Customer</th>\n",
       "      <th>Delivery_Experience</th>\n",
       "      <th>Food_quality</th>\n",
       "      <th>Delivery_Speed</th>\n",
       "      <th>Accurate_Order</th>\n",
       "    </tr>\n",
       "  </thead>\n",
       "  <tbody>\n",
       "    <tr>\n",
       "      <th>0</th>\n",
       "      <td>1</td>\n",
       "      <td>5.0</td>\n",
       "      <td>3.0</td>\n",
       "      <td>4.0</td>\n",
       "      <td>Yes</td>\n",
       "    </tr>\n",
       "    <tr>\n",
       "      <th>1</th>\n",
       "      <td>2</td>\n",
       "      <td>3.0</td>\n",
       "      <td>4.0</td>\n",
       "      <td>3.0</td>\n",
       "      <td>Yes</td>\n",
       "    </tr>\n",
       "    <tr>\n",
       "      <th>2</th>\n",
       "      <td>3</td>\n",
       "      <td>4.0</td>\n",
       "      <td>5.0</td>\n",
       "      <td>2.0</td>\n",
       "      <td>Yes</td>\n",
       "    </tr>\n",
       "    <tr>\n",
       "      <th>3</th>\n",
       "      <td>4</td>\n",
       "      <td>5.0</td>\n",
       "      <td>3.0</td>\n",
       "      <td>4.0</td>\n",
       "      <td>Yes</td>\n",
       "    </tr>\n",
       "    <tr>\n",
       "      <th>4</th>\n",
       "      <td>5</td>\n",
       "      <td>2.0</td>\n",
       "      <td>5.0</td>\n",
       "      <td>1.0</td>\n",
       "      <td>Yes</td>\n",
       "    </tr>\n",
       "  </tbody>\n",
       "</table>\n",
       "</div>"
      ],
      "text/plain": [
       "   Customer  Delivery_Experience  Food_quality  Delivery_Speed Accurate_Order\n",
       "0         1                  5.0           3.0             4.0            Yes\n",
       "1         2                  3.0           4.0             3.0            Yes\n",
       "2         3                  4.0           5.0             2.0            Yes\n",
       "3         4                  5.0           3.0             4.0            Yes\n",
       "4         5                  2.0           5.0             1.0            Yes"
      ]
     },
     "execution_count": 277,
     "metadata": {},
     "output_type": "execute_result"
    }
   ],
   "source": [
    "survey_df.head()"
   ]
  },
  {
   "cell_type": "code",
   "execution_count": 279,
   "id": "a5a67ee6-83a9-4cff-b88a-90e605a94a8d",
   "metadata": {},
   "outputs": [
    {
     "data": {
      "text/plain": [
       "10616"
      ]
     },
     "execution_count": 279,
     "metadata": {},
     "output_type": "execute_result"
    }
   ],
   "source": [
    "#Inspecting size of dataframe\n",
    "len(survey_df)"
   ]
  },
  {
   "cell_type": "code",
   "execution_count": 281,
   "id": "f6ba2b44-dd2b-485b-86c8-d79bd2524c67",
   "metadata": {},
   "outputs": [
    {
     "data": {
      "text/plain": [
       "10616"
      ]
     },
     "execution_count": 281,
     "metadata": {},
     "output_type": "execute_result"
    }
   ],
   "source": [
    "#Checking for dups\n",
    "survey_df['Customer'].nunique()"
   ]
  },
  {
   "cell_type": "code",
   "execution_count": 283,
   "id": "b01927fa-86b1-48dc-9cb2-f8deb1479c3a",
   "metadata": {},
   "outputs": [
    {
     "data": {
      "text/plain": [
       "Customer               10616\n",
       "Delivery_Experience    10198\n",
       "Food_quality           10364\n",
       "Delivery_Speed         10377\n",
       "Accurate_Order          9956\n",
       "dtype: int64"
      ]
     },
     "execution_count": 283,
     "metadata": {},
     "output_type": "execute_result"
    }
   ],
   "source": [
    "#Isnpecting for missing data.\n",
    "\n",
    "survey_df.count()"
   ]
  },
  {
   "cell_type": "code",
   "execution_count": 285,
   "id": "b2ccdd4f-0266-4950-81f4-f168f442810a",
   "metadata": {},
   "outputs": [],
   "source": [
    "# Droping rows where customer did not aswered any of the questions.\n",
    "\n",
    "setcolumns = survey_df.columns[1:5]  \n",
    "\n",
    "survey_df = survey_df.dropna(subset = setcolumns, how='all')"
   ]
  },
  {
   "cell_type": "code",
   "execution_count": 359,
   "id": "5a735bf8-1ded-43b7-8d6e-4822645d3116",
   "metadata": {},
   "outputs": [
    {
     "data": {
      "text/plain": [
       "<Axes: xlabel='Delivery_Experience'>"
      ]
     },
     "execution_count": 359,
     "metadata": {},
     "output_type": "execute_result"
    },
    {
     "data": {
      "image/png": "[encoded data removed]",
      "text/plain": [
       "<Figure size 500x300 with 1 Axes>"
      ]
     },
     "metadata": {},
     "output_type": "display_data"
    }
   ],
   "source": [
    "#Counting the calification obtained for the 'Delivery_Experience' column.\n",
    "\n",
    "survey_df['Delivery_Experience'].value_counts().sort_index(ascending=True).plot(kind='bar', figsize=(5,3))"
   ]
  },
  {
   "cell_type": "code",
   "execution_count": 349,
   "id": "884780bb-34b5-413b-8fc8-304be8471ce6",
   "metadata": {},
   "outputs": [
    {
     "data": {
      "text/plain": [
       "<Axes: xlabel='Food_quality'>"
      ]
     },
     "execution_count": 349,
     "metadata": {},
     "output_type": "execute_result"
    },
    {
     "data": {
      "image/png": "[encoded data removed]",
      "text/plain": [
       "<Figure size 500x300 with 1 Axes>"
      ]
     },
     "metadata": {},
     "output_type": "display_data"
    }
   ],
   "source": [
    "survey_df['Food_quality'].value_counts().sort_index(ascending=True).plot(kind='bar',figsize=(5,3))"
   ]
  },
  {
   "cell_type": "code",
   "execution_count": 351,
   "id": "8210beee-016a-4f41-bc2b-4dd32afd4e26",
   "metadata": {},
   "outputs": [
    {
     "data": {
      "text/plain": [
       "<Axes: xlabel='Delivery_Speed'>"
      ]
     },
     "execution_count": 351,
     "metadata": {},
     "output_type": "execute_result"
    },
    {
     "data": {
      "image/png": "[encoded data removed]",
      "text/plain": [
       "<Figure size 500x300 with 1 Axes>"
      ]
     },
     "metadata": {},
     "output_type": "display_data"
    }
   ],
   "source": [
    "survey_df['Delivery_Speed'].value_counts().sort_index(ascending=True).plot(kind='bar',figsize=(5,3))"
   ]
  },
  {
   "cell_type": "code",
   "execution_count": 353,
   "id": "cf25bf1d-34e7-4c46-b3fd-e00c2a7696c7",
   "metadata": {},
   "outputs": [
    {
     "data": {
      "image/png": "[encoded data removed]",
      "text/plain": [
       "<Figure size 500x300 with 1 Axes>"
      ]
     },
     "metadata": {},
     "output_type": "display_data"
    }
   ],
   "source": [
    "#Porcentage of Accurate_Orders\n",
    "Accuracy = survey_df['Accurate_Order'].value_counts(normalize=True).plot(kind='bar',figsize=(5,3))"
   ]
  }
 ],
 "metadata": {
  "kernelspec": {
   "display_name": "anaconda-panel-2023.05-py310",
   "language": "python",
   "name": "conda-env-anaconda-panel-2023.05-py310-py"
  },
  "language_info": {
   "codemirror_mode": {
    "name": "ipython",
    "version": 3
   },
   "file_extension": ".py",
   "mimetype": "text/x-python",
   "name": "python",
   "nbconvert_exporter": "python",
   "pygments_lexer": "ipython3",
   "version": "3.11.5"
  }
 },
 "nbformat": 4,
 "nbformat_minor": 5
}
