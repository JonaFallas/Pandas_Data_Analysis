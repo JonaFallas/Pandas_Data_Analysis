{
 "cells": [
  {
   "cell_type": "code",
   "execution_count": 1,
   "id": "4748bcf7-dd40-4c47-b289-eeabf4442f8c",
   "metadata": {
    "tags": []
   },
   "outputs": [],
   "source": [
    "import pandas as pd\n",
    "from randomuser import RandomUser"
   ]
  },
  {
   "cell_type": "code",
   "execution_count": 20,
   "id": "03f09e9f-963e-4615-8d1d-32bdf49fb53a",
   "metadata": {
    "tags": []
   },
   "outputs": [],
   "source": [
    "#Creating a funtion called 'get_users' to generate a df from a dictionary with random users.\n",
    "\n",
    "def get_users():\n",
    "    #Creating a List to store the users.\n",
    "    Users = []\n",
    "    \n",
    "    #Creating a RandomUser object\n",
    "    r = RandomUser.generate_users(10)\n",
    "    \n",
    "    #Creating a loop to append RandomUsers to the list\n",
    "    for user in r:\n",
    "        Users.append({'Name:':user.get_full_name(),'Phone_Number':user.get_phone()})\n",
    "        \n",
    "        #creating a DataFrame with the users.\n",
    "    return pd.DataFrame(Users)"
   ]
  },
  {
   "cell_type": "code",
   "execution_count": 21,
   "id": "7db407f0-1b49-4695-b558-09b88fb050d6",
   "metadata": {
    "tags": []
   },
   "outputs": [
    {
     "data": {
      "text/html": [
       "<div>\n",
       "<style scoped>\n",
       "    .dataframe tbody tr th:only-of-type {\n",
       "        vertical-align: middle;\n",
       "    }\n",
       "\n",
       "    .dataframe tbody tr th {\n",
       "        vertical-align: top;\n",
       "    }\n",
       "\n",
       "    .dataframe thead th {\n",
       "        text-align: right;\n",
       "    }\n",
       "</style>\n",
       "<table border=\"1\" class=\"dataframe\">\n",
       "  <thead>\n",
       "    <tr style=\"text-align: right;\">\n",
       "      <th></th>\n",
       "      <th>Name:</th>\n",
       "      <th>Phone_Number</th>\n",
       "    </tr>\n",
       "  </thead>\n",
       "  <tbody>\n",
       "    <tr>\n",
       "      <th>0</th>\n",
       "      <td>Phil Mitchelle</td>\n",
       "      <td>051-994-3830</td>\n",
       "    </tr>\n",
       "    <tr>\n",
       "      <th>1</th>\n",
       "      <td>Ege Kunter</td>\n",
       "      <td>(243)-258-8011</td>\n",
       "    </tr>\n",
       "    <tr>\n",
       "      <th>2</th>\n",
       "      <td>Heinz-Joachim Mittmann</td>\n",
       "      <td>0540-6099887</td>\n",
       "    </tr>\n",
       "    <tr>\n",
       "      <th>3</th>\n",
       "      <td>Zenóbia Sales</td>\n",
       "      <td>(49) 0353-4606</td>\n",
       "    </tr>\n",
       "    <tr>\n",
       "      <th>4</th>\n",
       "      <td>Luca Edwards</td>\n",
       "      <td>(725)-215-1803</td>\n",
       "    </tr>\n",
       "    <tr>\n",
       "      <th>5</th>\n",
       "      <td>Amadeus Kvalsvik</td>\n",
       "      <td>34037224</td>\n",
       "    </tr>\n",
       "    <tr>\n",
       "      <th>6</th>\n",
       "      <td>Connie Fernandez</td>\n",
       "      <td>(632)-271-6803</td>\n",
       "    </tr>\n",
       "    <tr>\n",
       "      <th>7</th>\n",
       "      <td>Ahmet Yorulmaz</td>\n",
       "      <td>(996)-642-1479</td>\n",
       "    </tr>\n",
       "    <tr>\n",
       "      <th>8</th>\n",
       "      <td>Dolores Dominguez</td>\n",
       "      <td>932-076-088</td>\n",
       "    </tr>\n",
       "    <tr>\n",
       "      <th>9</th>\n",
       "      <td>علی رضا صدر</td>\n",
       "      <td>008-59703891</td>\n",
       "    </tr>\n",
       "  </tbody>\n",
       "</table>\n",
       "</div>"
      ],
      "text/plain": [
       "                    Name:    Phone_Number\n",
       "0          Phil Mitchelle    051-994-3830\n",
       "1              Ege Kunter  (243)-258-8011\n",
       "2  Heinz-Joachim Mittmann    0540-6099887\n",
       "3           Zenóbia Sales  (49) 0353-4606\n",
       "4            Luca Edwards  (725)-215-1803\n",
       "5        Amadeus Kvalsvik        34037224\n",
       "6        Connie Fernandez  (632)-271-6803\n",
       "7          Ahmet Yorulmaz  (996)-642-1479\n",
       "8       Dolores Dominguez     932-076-088\n",
       "9             علی رضا صدر    008-59703891"
      ]
     },
     "execution_count": 21,
     "metadata": {},
     "output_type": "execute_result"
    }
   ],
   "source": [
    "#calling the funtion 'get_users' to generate a dataframe with ramdom user names and phones\n",
    "get_users()"
   ]
  }
 ],
 "metadata": {
  "kernelspec": {
   "display_name": "Python",
   "language": "python",
   "name": "conda-env-python-py"
  },
  "language_info": {
   "codemirror_mode": {
    "name": "ipython",
    "version": 3
   },
   "file_extension": ".py",
   "mimetype": "text/x-python",
   "name": "python",
   "nbconvert_exporter": "python",
   "pygments_lexer": "ipython3",
   "version": "3.7.12"
  }
 },
 "nbformat": 4,
 "nbformat_minor": 5
}
